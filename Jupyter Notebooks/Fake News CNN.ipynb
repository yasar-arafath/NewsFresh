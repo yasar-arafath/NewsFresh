{
 "cells": [
  {
   "cell_type": "code",
   "execution_count": 7,
   "metadata": {},
   "outputs": [],
   "source": [
    "import tensorflow as tf\n",
    "import pandas as pd\n",
    "import numpy as np\n",
    "from tensorflow.keras.preprocessing.text import Tokenizer\n",
    "from tensorflow.keras.preprocessing.sequence import pad_sequences\n",
    "from tensorflow.keras.models import Sequential\n",
    "from tensorflow.keras.layers import Dense, Dropout, Embedding, Conv1D, GlobalMaxPooling1D, Activation"
   ]
  },
  {
   "cell_type": "code",
   "execution_count": 8,
   "metadata": {},
   "outputs": [],
   "source": [
    "data = pd.read_csv(r'C:\\Users\\My PC\\Documents\\TXT\\train.csv')\n",
    "df = data"
   ]
  },
  {
   "cell_type": "code",
   "execution_count": 9,
   "metadata": {},
   "outputs": [
    {
     "name": "stderr",
     "output_type": "stream",
     "text": [
      "C:\\Users\\My PC\\Anaconda3\\lib\\site-packages\\ipykernel_launcher.py:3: SettingWithCopyWarning: \n",
      "A value is trying to be set on a copy of a slice from a DataFrame.\n",
      "Try using .loc[row_indexer,col_indexer] = value instead\n",
      "\n",
      "See the caveats in the documentation: http://pandas.pydata.org/pandas-docs/stable/indexing.html#indexing-view-versus-copy\n",
      "  This is separate from the ipykernel package so we can avoid doing imports until\n"
     ]
    }
   ],
   "source": [
    "df[['title', 'author']] = df[['title', 'author']].fillna(value = 'Missing Value')\n",
    "df = df.dropna()\n",
    "df['length'] = df.iloc[:,3].str.len()\n",
    "#print(df.isna().sum())\n",
    "df[df['length'] < 50].count()\n",
    "df = df.drop(df['text'][df['length'] < 50].index, axis=0)\n",
    "df_reverse = pd.DataFrame()\n",
    "\n",
    "\n",
    "#Categorical to Numeric\n",
    "for col_name in df.columns:\n",
    "    if(df[col_name].dtype == 'object'):\n",
    "        df[col_name]= df[col_name].astype('category')\n",
    "        d = dict(enumerate(df[col_name].cat.categories))\n",
    "        df[col_name] = df[col_name].cat.codes\n",
    "        df_reverse[col_name+\"_code\"] = df[col_name]\n",
    "        df_reverse[col_name] = df[col_name].map(d)\n",
    "\n",
    "features_cols = ['id', 'title', 'author', 'text']\n",
    "#FEATURES AND LABELS\n",
    "X = df[features_cols]\n",
    "Y = df.label"
   ]
  },
  {
   "cell_type": "code",
   "execution_count": 10,
   "metadata": {},
   "outputs": [],
   "source": [
    "from sklearn.model_selection import train_test_split\n",
    "X_train, X_test, Y_train, Y_test = train_test_split(X, Y, test_size=0.3, random_state=1)"
   ]
  },
  {
   "cell_type": "code",
   "execution_count": 11,
   "metadata": {},
   "outputs": [],
   "source": [
    "max_features = 20800\n",
    "batch_size = 32\n",
    "embedding_dims = 120\n",
    "filters = 250\n",
    "kernel_size = 3\n",
    "hidden_dims = 250\n",
    "epochs = 10"
   ]
  },
  {
   "cell_type": "code",
   "execution_count": 12,
   "metadata": {
    "scrolled": true
   },
   "outputs": [
    {
     "name": "stderr",
     "output_type": "stream",
     "text": [
      "WARNING: Logging before flag parsing goes to stderr.\n",
      "W0205 17:21:56.234436 18648 deprecation.py:506] From C:\\Users\\My PC\\Anaconda3\\lib\\site-packages\\tensorflow\\python\\keras\\initializers.py:119: calling RandomUniform.__init__ (from tensorflow.python.ops.init_ops) with dtype is deprecated and will be removed in a future version.\n",
      "Instructions for updating:\n",
      "Call initializer instance with the dtype argument instead of passing it to the constructor\n",
      "W0205 17:21:56.921004 18648 deprecation.py:506] From C:\\Users\\My PC\\Anaconda3\\lib\\site-packages\\tensorflow\\python\\ops\\init_ops.py:1251: calling VarianceScaling.__init__ (from tensorflow.python.ops.init_ops) with dtype is deprecated and will be removed in a future version.\n",
      "Instructions for updating:\n",
      "Call initializer instance with the dtype argument instead of passing it to the constructor\n"
     ]
    },
    {
     "name": "stdout",
     "output_type": "stream",
     "text": [
      "Model: \"sequential\"\n",
      "_________________________________________________________________\n",
      "Layer (type)                 Output Shape              Param #   \n",
      "=================================================================\n",
      "embedding (Embedding)        (None, None, 120)         2496000   \n",
      "_________________________________________________________________\n",
      "dropout (Dropout)            (None, None, 120)         0         \n",
      "_________________________________________________________________\n",
      "conv1d (Conv1D)              (None, None, 250)         90250     \n",
      "_________________________________________________________________\n",
      "global_max_pooling1d (Global (None, 250)               0         \n",
      "_________________________________________________________________\n",
      "dense (Dense)                (None, 250)               62750     \n",
      "_________________________________________________________________\n",
      "dropout_1 (Dropout)          (None, 250)               0         \n",
      "_________________________________________________________________\n",
      "activation (Activation)      (None, 250)               0         \n",
      "_________________________________________________________________\n",
      "dense_1 (Dense)              (None, 1)                 251       \n",
      "_________________________________________________________________\n",
      "activation_1 (Activation)    (None, 1)                 0         \n",
      "=================================================================\n",
      "Total params: 2,649,251\n",
      "Trainable params: 2,649,251\n",
      "Non-trainable params: 0\n",
      "_________________________________________________________________\n"
     ]
    }
   ],
   "source": [
    "model = Sequential()\n",
    "\n",
    "#Embedding Input Layer\n",
    "model.add(Embedding(input_dim = max_features, output_dim = embedding_dims))\n",
    "model.add(Dropout(0.2))\n",
    "\n",
    "#Convolution Layer\n",
    "model.add(Conv1D(filters, kernel_size, padding='valid', activation='relu', strides=1))\n",
    "\n",
    "#Max Pooling Layer\n",
    "model.add(GlobalMaxPooling1D())\n",
    "\n",
    "#Vanilla Hidden Layer\n",
    "model.add(Dense(hidden_dims))\n",
    "model.add(Dropout(0.2))\n",
    "model.add(Activation('relu'))\n",
    "\n",
    "#Output Layer\n",
    "model.add(Dense(1))\n",
    "model.add(Activation('sigmoid'))\n",
    "\n",
    "model.summary()"
   ]
  },
  {
   "cell_type": "code",
   "execution_count": 13,
   "metadata": {},
   "outputs": [
    {
     "name": "stderr",
     "output_type": "stream",
     "text": [
      "W0205 17:22:09.722054 18648 deprecation.py:323] From C:\\Users\\My PC\\Anaconda3\\lib\\site-packages\\tensorflow\\python\\ops\\nn_impl.py:180: add_dispatch_support.<locals>.wrapper (from tensorflow.python.ops.array_ops) is deprecated and will be removed in a future version.\n",
      "Instructions for updating:\n",
      "Use tf.where in 2.0, which has the same broadcast rule as np.where\n"
     ]
    },
    {
     "name": "stdout",
     "output_type": "stream",
     "text": [
      "Train on 14387 samples, validate on 6167 samples\n",
      "Epoch 1/10\n",
      "14387/14387 [==============================] - 20s 1ms/sample - loss: 0.2766 - acc: 0.8653 - val_loss: 0.1668 - val_acc: 0.9348\n",
      "Epoch 2/10\n",
      "14387/14387 [==============================] - 19s 1ms/sample - loss: 0.0167 - acc: 0.9954 - val_loss: 0.2494 - val_acc: 0.9282\n",
      "Epoch 3/10\n",
      "14387/14387 [==============================] - 19s 1ms/sample - loss: 6.3976e-04 - acc: 0.9999 - val_loss: 0.2888 - val_acc: 0.9303\n",
      "Epoch 4/10\n",
      "14387/14387 [==============================] - 19s 1ms/sample - loss: 5.4643e-05 - acc: 1.0000 - val_loss: 0.3105 - val_acc: 0.9319\n",
      "Epoch 5/10\n",
      "14387/14387 [==============================] - 19s 1ms/sample - loss: 2.4537e-05 - acc: 1.0000 - val_loss: 0.3246 - val_acc: 0.9321\n",
      "Epoch 6/10\n",
      "14387/14387 [==============================] - 23s 2ms/sample - loss: 1.4502e-05 - acc: 1.0000 - val_loss: 0.3369 - val_acc: 0.9319\n",
      "Epoch 7/10\n",
      "14387/14387 [==============================] - 21s 1ms/sample - loss: 1.0190e-05 - acc: 1.0000 - val_loss: 0.3479 - val_acc: 0.9321\n",
      "Epoch 8/10\n",
      "14387/14387 [==============================] - 23s 2ms/sample - loss: 7.0084e-06 - acc: 1.0000 - val_loss: 0.3583 - val_acc: 0.9316\n",
      "Epoch 9/10\n",
      "14387/14387 [==============================] - 19s 1ms/sample - loss: 4.9347e-06 - acc: 1.0000 - val_loss: 0.3680 - val_acc: 0.9321\n",
      "Epoch 10/10\n",
      "14387/14387 [==============================] - 20s 1ms/sample - loss: 3.5120e-06 - acc: 1.0000 - val_loss: 0.3770 - val_acc: 0.9321\n"
     ]
    },
    {
     "data": {
      "text/plain": [
       "<tensorflow.python.keras.callbacks.History at 0x1900313f5c0>"
      ]
     },
     "execution_count": 13,
     "metadata": {},
     "output_type": "execute_result"
    }
   ],
   "source": [
    "model.compile(loss='binary_crossentropy', optimizer='adam', metrics=['accuracy'])\n",
    "model.fit(X_train, Y_train, batch_size=batch_size, epochs=epochs, validation_data=(X_test, Y_test))"
   ]
  },
  {
   "cell_type": "code",
   "execution_count": 10,
   "metadata": {},
   "outputs": [
    {
     "name": "stdout",
     "output_type": "stream",
     "text": [
      "6167/6167 [==============================] - 1s 131us/sample - loss: 0.3440 - acc: 0.9285\n",
      "Accuracy of CNN: 93.0 %\n"
     ]
    }
   ],
   "source": [
    "Y_pred = model.predict(X_test)\n",
    "score = model.evaluate(X_test, Y_test, batch_size=128, verbose=1)\n",
    "accuracy = score[1]\n",
    "print(\"Accuracy of CNN:\", np.round(accuracy * 100), \"%\")"
   ]
  },
  {
   "cell_type": "code",
   "execution_count": 11,
   "metadata": {},
   "outputs": [],
   "source": [
    "np.set_printoptions(suppress=True)\n",
    "Y_pred = np.around(Y_pred).astype(int)\n",
    "Y_pred = Y_pred.squeeze()"
   ]
  },
  {
   "cell_type": "code",
   "execution_count": 12,
   "metadata": {},
   "outputs": [
    {
     "name": "stderr",
     "output_type": "stream",
     "text": [
      "C:\\Users\\My PC\\Anaconda3\\lib\\site-packages\\ipykernel_launcher.py:10: SettingWithCopyWarning: \n",
      "A value is trying to be set on a copy of a slice from a DataFrame.\n",
      "Try using .loc[row_indexer,col_indexer] = value instead\n",
      "\n",
      "See the caveats in the documentation: http://pandas.pydata.org/pandas-docs/stable/indexing.html#indexing-view-versus-copy\n",
      "  # Remove the CWD from sys.path while we load stuff.\n",
      "C:\\Users\\My PC\\Anaconda3\\lib\\site-packages\\ipykernel_launcher.py:11: SettingWithCopyWarning: \n",
      "A value is trying to be set on a copy of a slice from a DataFrame.\n",
      "Try using .loc[row_indexer,col_indexer] = value instead\n",
      "\n",
      "See the caveats in the documentation: http://pandas.pydata.org/pandas-docs/stable/indexing.html#indexing-view-versus-copy\n",
      "  # This is added back by InteractiveShellApp.init_path()\n",
      "C:\\Users\\My PC\\Anaconda3\\lib\\site-packages\\ipykernel_launcher.py:12: SettingWithCopyWarning: \n",
      "A value is trying to be set on a copy of a slice from a DataFrame.\n",
      "Try using .loc[row_indexer,col_indexer] = value instead\n",
      "\n",
      "See the caveats in the documentation: http://pandas.pydata.org/pandas-docs/stable/indexing.html#indexing-view-versus-copy\n",
      "  if sys.path[0] == '':\n"
     ]
    }
   ],
   "source": [
    "X_test_cp = X_test\n",
    "#Decoding Data - ONE TIME STEP - DO NOT REPEAT\n",
    "df_reverse.set_index('title_code', inplace=False)\n",
    "title_dict = df_reverse.to_dict()['title']\n",
    "df_reverse.set_index('author_code', inplace=False)\n",
    "author_dict = df_reverse.to_dict()['author']\n",
    "df_reverse.set_index('text_code', inplace=False)\n",
    "text_dict = df_reverse.to_dict()['text']\n",
    "\n",
    "X_test_cp['title'] = X_test_cp['title'].map(title_dict)\n",
    "X_test_cp['author'] = X_test_cp['author'].map(author_dict)\n",
    "X_test_cp['text'] = X_test_cp['text'].map(text_dict)\n",
    "X_test_cp.set_index('id', inplace=True)"
   ]
  },
  {
   "cell_type": "code",
   "execution_count": 13,
   "metadata": {},
   "outputs": [
    {
     "name": "stderr",
     "output_type": "stream",
     "text": [
      "C:\\Users\\My PC\\Anaconda3\\lib\\site-packages\\ipykernel_launcher.py:1: SettingWithCopyWarning: \n",
      "A value is trying to be set on a copy of a slice from a DataFrame.\n",
      "Try using .loc[row_indexer,col_indexer] = value instead\n",
      "\n",
      "See the caveats in the documentation: http://pandas.pydata.org/pandas-docs/stable/indexing.html#indexing-view-versus-copy\n",
      "  \"\"\"Entry point for launching an IPython kernel.\n",
      "C:\\Users\\My PC\\Anaconda3\\lib\\site-packages\\pandas\\core\\generic.py:6586: SettingWithCopyWarning: \n",
      "A value is trying to be set on a copy of a slice from a DataFrame\n",
      "\n",
      "See the caveats in the documentation: http://pandas.pydata.org/pandas-docs/stable/indexing.html#indexing-view-versus-copy\n",
      "  self._update_inplace(new_data)\n"
     ]
    }
   ],
   "source": [
    "X_test_cp['Prediction'] = Y_pred\n",
    "X_test_cp['Prediction'].replace([0,1],['Fake News','Relaible News'],inplace=True)\n",
    "pd.set_option('display.max_rows', None)\n",
    "pd.set_option('display.max_columns', None)\n",
    "pd.set_option('display.width', None)"
   ]
  },
  {
   "cell_type": "code",
   "execution_count": 14,
   "metadata": {},
   "outputs": [
    {
     "data": {
      "text/html": [
       "<div>\n",
       "<style scoped>\n",
       "    .dataframe tbody tr th:only-of-type {\n",
       "        vertical-align: middle;\n",
       "    }\n",
       "\n",
       "    .dataframe tbody tr th {\n",
       "        vertical-align: top;\n",
       "    }\n",
       "\n",
       "    .dataframe thead th {\n",
       "        text-align: right;\n",
       "    }\n",
       "</style>\n",
       "<table border=\"1\" class=\"dataframe\">\n",
       "  <thead>\n",
       "    <tr style=\"text-align: right;\">\n",
       "      <th></th>\n",
       "      <th>title</th>\n",
       "      <th>author</th>\n",
       "      <th>text</th>\n",
       "      <th>Prediction</th>\n",
       "    </tr>\n",
       "    <tr>\n",
       "      <th>id</th>\n",
       "      <th></th>\n",
       "      <th></th>\n",
       "      <th></th>\n",
       "      <th></th>\n",
       "    </tr>\n",
       "  </thead>\n",
       "  <tbody>\n",
       "    <tr>\n",
       "      <th>12652</th>\n",
       "      <td>Commissioner Starts to Press Cleveland Indians...</td>\n",
       "      <td>The New York Times</td>\n",
       "      <td>At the Golden Globes afterparties, hoi polloi ...</td>\n",
       "      <td>Fake News</td>\n",
       "    </tr>\n",
       "    <tr>\n",
       "      <th>13401</th>\n",
       "      <td>Cosmology/ Love &amp; the Afterlife</td>\n",
       "      <td>noreply@blogger.com (Alexander Light)</td>\n",
       "      <td>Trending Articles: Trending Articles: ‘Chairma...</td>\n",
       "      <td>Fake News</td>\n",
       "    </tr>\n",
       "    <tr>\n",
       "      <th>5882</th>\n",
       "      <td>Fordham Basketball Coach Recruits With an Acad...</td>\n",
       "      <td>Dr. Patrick Slattery</td>\n",
       "      <td>Hollywood’s biggest stars took to social media...</td>\n",
       "      <td>Fake News</td>\n",
       "    </tr>\n",
       "    <tr>\n",
       "      <th>11500</th>\n",
       "      <td>Carrie Fisher, Russia, Shinzo Abe: Your Wednes...</td>\n",
       "      <td>TFPP Writer</td>\n",
       "      <td>This post was originally published on this sit...</td>\n",
       "      <td>Fake News</td>\n",
       "    </tr>\n",
       "    <tr>\n",
       "      <th>14754</th>\n",
       "      <td>Ken Blackwell: Media ‘Borking’ Sessions Becaus...</td>\n",
       "      <td>Mac Slavo</td>\n",
       "      <td>IQUITOS, Peru  —   Venezuela took its stronges...</td>\n",
       "      <td>Relaible News</td>\n",
       "    </tr>\n",
       "  </tbody>\n",
       "</table>\n",
       "</div>"
      ],
      "text/plain": [
       "                                                   title  \\\n",
       "id                                                         \n",
       "12652  Commissioner Starts to Press Cleveland Indians...   \n",
       "13401                    Cosmology/ Love & the Afterlife   \n",
       "5882   Fordham Basketball Coach Recruits With an Acad...   \n",
       "11500  Carrie Fisher, Russia, Shinzo Abe: Your Wednes...   \n",
       "14754  Ken Blackwell: Media ‘Borking’ Sessions Becaus...   \n",
       "\n",
       "                                      author  \\\n",
       "id                                             \n",
       "12652                     The New York Times   \n",
       "13401  noreply@blogger.com (Alexander Light)   \n",
       "5882                    Dr. Patrick Slattery   \n",
       "11500                            TFPP Writer   \n",
       "14754                              Mac Slavo   \n",
       "\n",
       "                                                    text     Prediction  \n",
       "id                                                                       \n",
       "12652  At the Golden Globes afterparties, hoi polloi ...      Fake News  \n",
       "13401  Trending Articles: Trending Articles: ‘Chairma...      Fake News  \n",
       "5882   Hollywood’s biggest stars took to social media...      Fake News  \n",
       "11500  This post was originally published on this sit...      Fake News  \n",
       "14754  IQUITOS, Peru  —   Venezuela took its stronges...  Relaible News  "
      ]
     },
     "execution_count": 14,
     "metadata": {},
     "output_type": "execute_result"
    }
   ],
   "source": [
    "X_test_cp.tail()"
   ]
  },
  {
   "cell_type": "code",
   "execution_count": null,
   "metadata": {},
   "outputs": [],
   "source": []
  }
 ],
 "metadata": {
  "kernelspec": {
   "display_name": "Python 3",
   "language": "python",
   "name": "python3"
  },
  "language_info": {
   "codemirror_mode": {
    "name": "ipython",
    "version": 3
   },
   "file_extension": ".py",
   "mimetype": "text/x-python",
   "name": "python",
   "nbconvert_exporter": "python",
   "pygments_lexer": "ipython3",
   "version": "3.7.3"
  }
 },
 "nbformat": 4,
 "nbformat_minor": 2
}
