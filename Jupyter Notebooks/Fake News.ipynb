{
 "cells": [
  {
   "cell_type": "code",
   "execution_count": 11,
   "metadata": {},
   "outputs": [
    {
     "name": "stdout",
     "output_type": "stream",
     "text": [
      "<class 'pandas.core.frame.DataFrame'>\n",
      "RangeIndex: 5200 entries, 0 to 5199\n",
      "Data columns (total 4 columns):\n",
      "id        5200 non-null int64\n",
      "title     5078 non-null object\n",
      "author    4697 non-null object\n",
      "text      5193 non-null object\n",
      "dtypes: int64(1), object(3)\n",
      "memory usage: 162.6+ KB\n",
      "<class 'pandas.core.frame.DataFrame'>\n",
      "RangeIndex: 20800 entries, 0 to 20799\n",
      "Data columns (total 5 columns):\n",
      "id        20800 non-null int64\n",
      "title     20242 non-null object\n",
      "author    18843 non-null object\n",
      "text      20761 non-null object\n",
      "label     20800 non-null int64\n",
      "dtypes: int64(2), object(3)\n",
      "memory usage: 812.6+ KB\n"
     ]
    }
   ],
   "source": [
    "import numpy as np # linear algebra\n",
    "import pandas as pd # data processing, CSV file I/O (e.g. pd.read_csv)\n",
    "#1: unreliable\n",
    "#0: reliable\n",
    "train=pd.read_csv(r'C:\\Users\\My PC\\Documents\\TXT\\train.csv')\n",
    "test=pd.read_csv(r'C:\\Users\\My PC\\Documents\\TXT\\test.csv')\n",
    "test.info()\n",
    "test['label']='t'\n",
    "train.info()"
   ]
  },
  {
   "cell_type": "code",
   "execution_count": 13,
   "metadata": {},
   "outputs": [],
   "source": [
    "from sklearn.feature_extraction.text import CountVectorizer\n",
    "from sklearn.naive_bayes import MultinomialNB\n",
    "from sklearn.feature_extraction.text import TfidfTransformer\n",
    "\n",
    "#data prep\n",
    "test=test.fillna(' ')\n",
    "train=train.fillna(' ')\n",
    "test['total']=test['title']+' '+test['author']+test['text']\n",
    "train['total']=train['title']+' '+train['author']+train['text']\n",
    "\n",
    "#tfidf\n",
    "transformer = TfidfTransformer(smooth_idf=False)\n",
    "count_vectorizer = CountVectorizer(ngram_range=(1, 2))\n",
    "counts = count_vectorizer.fit_transform(train['total'].values)\n",
    "tfidf = transformer.fit_transform(counts)"
   ]
  },
  {
   "cell_type": "code",
   "execution_count": 14,
   "metadata": {},
   "outputs": [
    {
     "name": "stderr",
     "output_type": "stream",
     "text": [
      "C:\\Users\\My PC\\Anaconda3\\lib\\site-packages\\sklearn\\feature_extraction\\text.py:1247: RuntimeWarning: divide by zero encountered in true_divide\n",
      "  idf = np.log(n_samples / df) + 1\n"
     ]
    }
   ],
   "source": [
    "targets = train['label'].values\n",
    "test_counts = count_vectorizer.transform(test['total'].values)\n",
    "test_tfidf = transformer.fit_transform(test_counts)\n",
    "\n",
    "#split in samples\n",
    "from sklearn.model_selection import train_test_split\n",
    "X_train, X_test, y_train, y_test = train_test_split(tfidf, targets, random_state=0)"
   ]
  },
  {
   "cell_type": "code",
   "execution_count": 15,
   "metadata": {},
   "outputs": [
    {
     "name": "stdout",
     "output_type": "stream",
     "text": [
      "Accuracy of ExtrTrees classifier on training set: 1.00\n",
      "Accuracy of Extratrees classifier on test set: 0.85\n"
     ]
    }
   ],
   "source": [
    "from sklearn.ensemble import (RandomForestClassifier, ExtraTreesClassifier,\n",
    "                              AdaBoostClassifier)\n",
    "\n",
    "Extr = ExtraTreesClassifier(n_estimators=5,n_jobs=4)\n",
    "Extr.fit(X_train, y_train)\n",
    "print('Accuracy of ExtrTrees classifier on training set: {:.2f}'\n",
    "     .format(Extr.score(X_train, y_train)))\n",
    "print('Accuracy of Extratrees classifier on test set: {:.2f}'\n",
    "     .format(Extr.score(X_test, y_test)))"
   ]
  },
  {
   "cell_type": "code",
   "execution_count": 16,
   "metadata": {},
   "outputs": [
    {
     "name": "stdout",
     "output_type": "stream",
     "text": [
      "Accuracy of Adaboost classifier on training set: 0.96\n",
      "Accuracy of Adaboost classifier on test set: 0.95\n"
     ]
    }
   ],
   "source": [
    "from sklearn.tree import DecisionTreeClassifier\n",
    "\n",
    "Adab= AdaBoostClassifier(DecisionTreeClassifier(max_depth=3),n_estimators=5)\n",
    "Adab.fit(X_train, y_train)\n",
    "print('Accuracy of Adaboost classifier on training set: {:.2f}'\n",
    "     .format(Adab.score(X_train, y_train)))\n",
    "print('Accuracy of Adaboost classifier on test set: {:.2f}'\n",
    "     .format(Adab.score(X_test, y_test)))"
   ]
  },
  {
   "cell_type": "code",
   "execution_count": 18,
   "metadata": {},
   "outputs": [
    {
     "name": "stdout",
     "output_type": "stream",
     "text": [
      "Accuracy of randomforest classifier on training set: 0.99\n",
      "Accuracy of randomforest classifier on test set: 0.83\n"
     ]
    }
   ],
   "source": [
    "Rando= RandomForestClassifier(n_estimators=5)\n",
    "\n",
    "Rando.fit(X_train, y_train)\n",
    "print('Accuracy of randomforest classifier on training set: {:.2f}'\n",
    "     .format(Rando.score(X_train, y_train)))\n",
    "print('Accuracy of randomforest classifier on test set: {:.2f}'\n",
    "     .format(Rando.score(X_test, y_test)))"
   ]
  },
  {
   "cell_type": "code",
   "execution_count": 25,
   "metadata": {},
   "outputs": [
    {
     "name": "stdout",
     "output_type": "stream",
     "text": [
      "Accuracy of Lasso classifier on training set: 1.00\n",
      "Accuracy of Lasso classifier on test set: 0.98\n"
     ]
    }
   ],
   "source": [
    "from sklearn.linear_model import LogisticRegression\n",
    "logreg = LogisticRegression(C=1e5)\n",
    "logreg.fit(X_train, y_train)\n",
    "print('Accuracy of Lasso classifier on training set: {:.2f}'\n",
    "     .format(logreg.score(X_train, y_train)))\n",
    "print('Accuracy of Lasso classifier on test set: {:.2f}'\n",
    "     .format(logreg.score(X_test, y_test)))"
   ]
  },
  {
   "cell_type": "code",
   "execution_count": null,
   "metadata": {},
   "outputs": [],
   "source": []
  }
 ],
 "metadata": {
  "kernelspec": {
   "display_name": "Python 3",
   "language": "python",
   "name": "python3"
  },
  "language_info": {
   "codemirror_mode": {
    "name": "ipython",
    "version": 3
   },
   "file_extension": ".py",
   "mimetype": "text/x-python",
   "name": "python",
   "nbconvert_exporter": "python",
   "pygments_lexer": "ipython3",
   "version": "3.7.3"
  }
 },
 "nbformat": 4,
 "nbformat_minor": 2
}
